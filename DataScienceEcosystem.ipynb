{
  "cells": [
    {
      "cell_type": "markdown",
      "metadata": {
        "id": "njdltB8bicL2"
      },
      "source": [
        "# Data Science Tools and Ecosystem"
      ]
    },
    {
      "cell_type": "markdown",
      "metadata": {
        "id": "0kMBgNsYi6w0"
      },
      "source": [
        "In this notebook, Data Science Tools and Ecosystem are summarized."
      ]
    },
    {
      "cell_type": "markdown",
      "metadata": {
        "id": "JkIRMfeFmDwZ"
      },
      "source": [
        "Some of the popular languages that Data Scientists use are:\n",
        "1. Python\n",
        "2. R\n",
        "3. SQL\n",
        "4. Julia\n",
        "5. Scala\n",
        "6. MATLAB\n",
        "7. Java"
      ]
    },
    {
      "cell_type": "markdown",
      "metadata": {
        "id": "5RIG3S5ziSIi"
      },
      "source": [
        "Some of the commonly used libraries used by Data Scientists include:\n",
        "1. Pandas\n",
        "2. NumPy\n",
        "3. Matplotlib\n",
        "4. Scikit-Learn\n",
        "5. TensorFlow\n",
        "6. Keras\n",
        "7. PyTorch\n"
      ]
    },
    {
      "cell_type": "markdown",
      "metadata": {
        "id": "kEDHT9_CoTiW"
      },
      "source": [
        "|**Data Science Tools**|\n",
        "|----------------------|\n",
        "| Jupyter Notebook     |\n",
        "| Apache Zeppelin      |\n",
        "| Visual Studio Code   |\n"
      ]
    },
    {
      "cell_type": "markdown",
      "metadata": {
        "id": "dovvmc4a3SVO"
      },
      "source": [
        "### Below are a few examples of evaluating arithmetic expressions in Python"
      ]
    },
    {
      "cell_type": "code",
      "execution_count": null,
      "metadata": {
        "colab": {
          "base_uri": "https://localhost:8080/"
        },
        "id": "wkW04w8yorPM",
        "outputId": "664b796c-2f05-4541-ed68-0dca886398e7"
      },
      "outputs": [
        {
          "data": {
            "text/plain": [
              "17"
            ]
          },
          "execution_count": 18,
          "metadata": {},
          "output_type": "execute_result"
        }
      ],
      "source": [
        "#This a simple arithmetic expression to mutiply then add integers\n",
        "(3*4)+5"
      ]
    },
    {
      "cell_type": "code",
      "execution_count": null,
      "metadata": {
        "colab": {
          "base_uri": "https://localhost:8080/"
        },
        "id": "OWVuAGuH3l_c",
        "outputId": "a707379b-dfaf-44f0-8d9e-a0e43326cf8e"
      },
      "outputs": [
        {
          "data": {
            "text/plain": [
              "3.3333333333333335"
            ]
          },
          "execution_count": 19,
          "metadata": {},
          "output_type": "execute_result"
        }
      ],
      "source": [
        "#This will convert 200 minutes to hours by diving by 60\n",
        "minutes = 200\n",
        "hours = minutes / 60\n",
        "hours"
      ]
    },
    {
      "cell_type": "markdown",
      "metadata": {
        "id": "ZNb2lw6Z4DNF"
      },
      "source": [
        "**Objectives:**\n",
        "- List popular languages for Data Science\n",
        "- List popular libraries for Data Science\n",
        "- List of well known Data Science Tools\n",
        "- Examples of evaluating arithmetic expressions in Python"
      ]
    },
    {
      "cell_type": "markdown",
      "metadata": {
        "id": "D7PpnJVa5xRX"
      },
      "source": [
        "## Author\n",
        "Christian Kofler"
      ]
    }
  ],
  "metadata": {
    "colab": {
      "provenance": []
    },
    "kernelspec": {
      "display_name": "Python 3",
      "name": "python3"
    },
    "language_info": {
      "name": "python"
    }
  },
  "nbformat": 4,
  "nbformat_minor": 0
}
